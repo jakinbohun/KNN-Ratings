{
 "cells": [
  {
   "cell_type": "code",
   "execution_count": 3,
   "metadata": {},
   "outputs": [],
   "source": [
    "import nltk\n",
    "import numpy as np\n",
    "import re\n",
    "import pandas as pd\n",
    "import string\n",
    "from itertools import chain\n",
    "from nltk.corpus import stopwords\n",
    "from nltk.stem.porter import *\n",
    "from sklearn.feature_extraction.text import TfidfVectorizer\n",
    "from sklearn.metrics.pairwise import cosine_similarity\n",
    "stemmer = PorterStemmer()\n",
    "stop_words = set(stopwords.words('english')) "
   ]
  },
  {
   "cell_type": "markdown",
   "metadata": {},
   "source": [
    "Without tokenizing the comments I am not sure how I can stem them quickly.\n",
    "I could just go over each word and stem as I go. Seems like it would take awhile."
   ]
  },
  {
   "cell_type": "code",
   "execution_count": 4,
   "metadata": {},
   "outputs": [],
   "source": [
    "train_comments = pd.read_csv(\"training_copy.dat\", sep=\"\\n\", header=None)\n",
    "test_comments = pd.read_csv(\"test_copy.dat\", sep=\"\\n\", header=None)\n",
    "\n",
    "#Made all letters lowercase to remove any matching issues\n",
    "train_comments_lower = train_comments[0].str.lower()\n",
    "test_comments_lower = test_comments[0].str.lower()\n",
    "\n",
    "#Converted the lines of training and test data to list and then combined them into a single corpus\n",
    "train_comm_list = train_comments_lower.tolist()\n",
    "test_comm_list = test_comments_lower.tolist()\n",
    "combined_comments = train_comm_list + test_comm_list"
   ]
  },
  {
   "cell_type": "code",
   "execution_count": 25,
   "metadata": {},
   "outputs": [
    {
     "data": {
      "text/plain": [
       "18506"
      ]
     },
     "execution_count": 25,
     "metadata": {},
     "output_type": "execute_result"
    }
   ],
   "source": [
    "len(train_comm_list)"
   ]
  },
  {
   "cell_type": "code",
   "execution_count": 26,
   "metadata": {},
   "outputs": [
    {
     "data": {
      "text/plain": [
       "18441"
      ]
     },
     "execution_count": 26,
     "metadata": {},
     "output_type": "execute_result"
    }
   ],
   "source": [
    "len(test_comm_list)"
   ]
  },
  {
   "cell_type": "markdown",
   "metadata": {},
   "source": [
    "TfidfVectorizer is a powerful utility from scikit-learn. It creates a 2d array of features from documents. The matrix contains numerical data that reflects the importance of words relative to the document while reducing the importance of words that appear frequently in every document.\n",
    "\n",
    "TF - Term frequency. Longer documents will have more occurences of certain words and so normalization via: \n",
    "\n",
    "TF(t) = term frequency/number of total terms in document\n",
    "\n",
    "IDF - Certain terms, like stop words, will appear multiple times over many documents, and so their importance needs to be scaled down, while other words are more rare and their importance needs to be scaled up.\n",
    "\n",
    "IDF(t) = log_e(Total number of documents / Number of documents with term t in it)"
   ]
  },
  {
   "cell_type": "code",
   "execution_count": 24,
   "metadata": {},
   "outputs": [],
   "source": [
    "def tf_idf_tokenizer(text):\n",
    "    '''Custom tokenizer for  sklearn's tf-idf vectorizer. Strips away punctuation, digits, and \n",
    "    removes common word endings, such as ing or ed, to get a base word.\n",
    "    Note: tf-idf vectorizer does offer the utility to remove stop words, make all letters lower case,\n",
    "    and a few other utilities. I did not use these features at the time when I created this project,\n",
    "    but I have since increased my familiarity with them.'''\n",
    "    tokenized_words = [word for word in nltk.word_tokenize(text) if len(word)>1]\n",
    "    stripped_punc_words = [''.join(char for char in word if char not in string.punctuation) for word in tokenized_words]\n",
    "    stripped_num_words = [''.join(char for char in word if char not in string.digits) for word in stripped_punc_words]\n",
    "    stemmed_words = [stemmer.stem(words) for words in stripped_num_words]\n",
    "    trimmed_stops = []\n",
    "    for word in stemmed_words:        \n",
    "        if word not in stop_words:\n",
    "            trimmed_stops.append(word)\n",
    "    return trimmed_stops"
   ]
  },
  {
   "cell_type": "code",
   "execution_count": 27,
   "metadata": {},
   "outputs": [],
   "source": [
    "'''I chose to have the tf-idf vectorizer return 50 features and have them be between 1 and two words, partly due to run time.'''\n",
    "tfidf=TfidfVectorizer(use_idf=True,analyzer='word',tokenizer=tf_idf_tokenizer,max_features=50,ngram_range=(1,2))"
   ]
  },
  {
   "cell_type": "code",
   "execution_count": 28,
   "metadata": {},
   "outputs": [],
   "source": [
    "# Returns the term document matrix\n",
    "combo_tfidf_vectors = tfidf.fit_transform(combined_comments)"
   ]
  },
  {
   "cell_type": "code",
   "execution_count": 29,
   "metadata": {},
   "outputs": [],
   "source": [
    "# Used this just to get a visual of what sort of numbers I had in the array.\n",
    "# They are more relative really,\n",
    "# combo_tfidf_vectors.todense()"
   ]
  },
  {
   "cell_type": "code",
   "execution_count": 30,
   "metadata": {},
   "outputs": [
    {
     "data": {
      "text/plain": [
       "(36947, 50)"
      ]
     },
     "execution_count": 30,
     "metadata": {},
     "output_type": "execute_result"
    }
   ],
   "source": [
    "# I wanted to ensure that all of the training and test documents were included\n",
    "combo_tfidf_vectors.shape"
   ]
  },
  {
   "cell_type": "code",
   "execution_count": 31,
   "metadata": {},
   "outputs": [],
   "source": [
    "# Returns the most important terms from the given documents\n",
    "# tfidf.vocabulary_"
   ]
  },
  {
   "cell_type": "code",
   "execution_count": 32,
   "metadata": {},
   "outputs": [],
   "source": [
    "training_tfidf = combo_tfidf_vectors[:18506,:50]"
   ]
  },
  {
   "cell_type": "code",
   "execution_count": 33,
   "metadata": {},
   "outputs": [],
   "source": [
    "test_tfidf = combo_tfidf_vectors[18506:36947,:250]"
   ]
  },
  {
   "cell_type": "code",
   "execution_count": 34,
   "metadata": {},
   "outputs": [
    {
     "data": {
      "text/plain": [
       "scipy.sparse.csr.csr_matrix"
      ]
     },
     "execution_count": 34,
     "metadata": {},
     "output_type": "execute_result"
    }
   ],
   "source": [
    "type(test_tfidf)"
   ]
  },
  {
   "cell_type": "markdown",
   "metadata": {},
   "source": [
    "row=doc,col=word"
   ]
  },
  {
   "cell_type": "code",
   "execution_count": 35,
   "metadata": {},
   "outputs": [],
   "source": [
    "'''I like to look at tf-idf vectorizer and cosine_similarity as the linchpins of this program. \n",
    "The cosine similarity of course returns the similarity between every document in the training data \n",
    "to that found in the test data. It is from this matrix that I was able to perform K Nearest Neighbors\n",
    "on.'''\n",
    "distances = cosine_similarity(training_tfidf,test_tfidf)"
   ]
  },
  {
   "cell_type": "code",
   "execution_count": 38,
   "metadata": {},
   "outputs": [
    {
     "name": "stdout",
     "output_type": "stream",
     "text": [
      "18506\n",
      "18441\n"
     ]
    }
   ],
   "source": [
    "# Verifying counts for training and test docs\n",
    "print(len(distances)) # # of rows = test docs\n",
    "print(len(distances[0]))# # of columns = training docs"
   ]
  },
  {
   "cell_type": "code",
   "execution_count": 39,
   "metadata": {},
   "outputs": [
    {
     "data": {
      "text/plain": [
       "array([[0.11050007, 0.35601856, 0.20808172, ..., 0.04854302, 0.16463198,\n",
       "        0.33508594],\n",
       "       [0.32184786, 0.18660923, 0.1431594 , ..., 0.16475268, 0.34481771,\n",
       "        0.23606521],\n",
       "       [0.11733428, 0.28397613, 0.12260682, ..., 0.064449  , 0.04377818,\n",
       "        0.3228554 ],\n",
       "       ...,\n",
       "       [0.03280866, 0.14746313, 0.12528534, ..., 0.32015188, 0.11774589,\n",
       "        0.31692515],\n",
       "       [0.2620182 , 0.17720004, 0.27527695, ..., 0.20523148, 0.19385927,\n",
       "        0.42658912],\n",
       "       [0.        , 0.04382524, 0.1170949 , ..., 0.09886947, 0.04396948,\n",
       "        0.20133249]])"
      ]
     },
     "execution_count": 39,
     "metadata": {},
     "output_type": "execute_result"
    }
   ],
   "source": [
    "distances"
   ]
  },
  {
   "cell_type": "code",
   "execution_count": 40,
   "metadata": {},
   "outputs": [],
   "source": [
    "'''Very helpful numpy function! It returns an array that is the same size \n",
    "as the one passed in. Each row of the returned array holds the indices of \n",
    "the training documents that are farthest to closest relative to that row\n",
    "(test document).'''\n",
    "sorted_distances = distances.argsort()"
   ]
  },
  {
   "cell_type": "code",
   "execution_count": 41,
   "metadata": {},
   "outputs": [
    {
     "data": {
      "text/plain": [
       "array([[ 1845, 14982, 14978, ..., 11069,  4347, 17252],\n",
       "       [ 5742, 14266,  6728, ...,  8947, 14919,  2233],\n",
       "       [ 3013, 11550, 15904, ..., 11657, 10333, 15459],\n",
       "       ...,\n",
       "       [15899, 14031, 14079, ...,  6717, 17837, 13686],\n",
       "       [ 9294,  5767, 16854, ..., 14717,   640,  4520],\n",
       "       [    0,  8725,  8611, ...,  7627, 11580,  1371]])"
      ]
     },
     "execution_count": 41,
     "metadata": {},
     "output_type": "execute_result"
    }
   ],
   "source": [
    "sorted_distances"
   ]
  },
  {
   "cell_type": "code",
   "execution_count": 42,
   "metadata": {},
   "outputs": [
    {
     "data": {
      "text/plain": [
       "array([ 6008, 14268, 16808,   911, 18053])"
      ]
     },
     "execution_count": 42,
     "metadata": {},
     "output_type": "execute_result"
    }
   ],
   "source": [
    "sorted_distances[18440,-5:] #returns the top 5 training docs similar to the test doc"
   ]
  },
  {
   "cell_type": "markdown",
   "metadata": {},
   "source": [
    "I have a KNN function that takes in x = index of test doc & y = k-nearest neighbors of training documents. From there I get their respective ratings. I determine which rating/class label has the highest representation, +1 or -1, and choose that rating to add to a list of ratings."
   ]
  },
  {
   "cell_type": "code",
   "execution_count": 43,
   "metadata": {},
   "outputs": [
    {
     "data": {
      "text/plain": [
       "0.010902896546076124"
      ]
     },
     "execution_count": 43,
     "metadata": {},
     "output_type": "execute_result"
    }
   ],
   "source": [
    "distances[0,3] #Confirmed that these are these highest similarities. The incoming "
   ]
  },
  {
   "cell_type": "code",
   "execution_count": 44,
   "metadata": {},
   "outputs": [],
   "source": [
    "# train_comments = train_comments.str.split(\"\\t\",n=1,expand =  True)\n",
    "comments = pd.read_csv(\"training_copy.dat\", sep=\"\\n\", header=None)\n",
    "comments = comments[0].str.lower()\n",
    "comments = comments.str.split(\"\\t\",n=1,expand =  True)\n",
    "ratings = comments[0]"
   ]
  },
  {
   "cell_type": "code",
   "execution_count": 45,
   "metadata": {},
   "outputs": [
    {
     "data": {
      "text/plain": [
       "'+1'"
      ]
     },
     "execution_count": 45,
     "metadata": {},
     "output_type": "execute_result"
    }
   ],
   "source": [
    "ratings[1]"
   ]
  },
  {
   "cell_type": "code",
   "execution_count": 46,
   "metadata": {},
   "outputs": [],
   "source": [
    "def most_freq(inc_list):\n",
    "    return max(set(inc_list), key = inc_list.count) \n",
    "\n",
    "def knn(test_index,k):\n",
    "    nearest_neighbors = sorted_distances[test_index,-abs(k):] #get the indices of the k nearest neighbors\n",
    "    neighbor_ratings = [] \n",
    "    for neighbor in nearest_neighbors: \n",
    "        neighbor_ratings.append(ratings[neighbor])\n",
    "    rating = most_freq(neighbor_ratings)\n",
    "    return rating"
   ]
  },
  {
   "cell_type": "code",
   "execution_count": 47,
   "metadata": {},
   "outputs": [],
   "source": [
    "def create_list_knn(k):\n",
    "    predicted_test_ratings = []\n",
    "    for i in range(len(train_comments)):\n",
    "        predicted_test_ratings.append(knn(i,k))\n",
    "    f= open(\"joabrb22_format.dat\",\"w+\")\n",
    "    for rating in predicted_test_ratings:\n",
    "        f.write(rating+\"\\n\")\n"
   ]
  },
  {
   "cell_type": "code",
   "execution_count": 48,
   "metadata": {},
   "outputs": [],
   "source": [
    "create_list_knn(7)"
   ]
  }
 ],
 "metadata": {
  "kernelspec": {
   "display_name": "Python 3",
   "language": "python",
   "name": "python3"
  },
  "language_info": {
   "codemirror_mode": {
    "name": "ipython",
    "version": 3
   },
   "file_extension": ".py",
   "mimetype": "text/x-python",
   "name": "python",
   "nbconvert_exporter": "python",
   "pygments_lexer": "ipython3",
   "version": "3.7.4"
  }
 },
 "nbformat": 4,
 "nbformat_minor": 2
}
